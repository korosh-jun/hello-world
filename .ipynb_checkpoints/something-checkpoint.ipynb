{
 "cells": [
  {
   "cell_type": "code",
   "execution_count": 15,
   "id": "d2218d27-3b00-42f7-8249-4bc44d1ca105",
   "metadata": {},
   "outputs": [
    {
     "name": "stdin",
     "output_type": "stream",
     "text": [
      "Name> Korosh\n",
      "How is Korosh feeling today?> eepy\n"
     ]
    },
    {
     "name": "stdout",
     "output_type": "stream",
     "text": [
      "It appears Korosh feels eepy as of 03:14, 2024-10-17.\n"
     ]
    }
   ],
   "source": [
    "from datetime import datetime\n",
    "\n",
    "name = input(\"Name>\").capitalize() # name input\n",
    "status = input(\"How is {} feeling today?>\".format(name)).lower() # other input\n",
    "time = datetime.now().strftime(\"%H:%M, %Y-%m-%d\")\n",
    "\n",
    "msg = \"It appears {} feels {} as of {}.\".format(name, status, time) # does something with inputs\n",
    "print(msg)"
   ]
  },
  {
   "cell_type": "code",
   "execution_count": null,
   "id": "fcd05a06-8473-4596-8e36-8802d42e9082",
   "metadata": {},
   "outputs": [],
   "source": []
  }
 ],
 "metadata": {
  "kernelspec": {
   "display_name": "Python 3 (ipykernel)",
   "language": "python",
   "name": "python3"
  },
  "language_info": {
   "codemirror_mode": {
    "name": "ipython",
    "version": 3
   },
   "file_extension": ".py",
   "mimetype": "text/x-python",
   "name": "python",
   "nbconvert_exporter": "python",
   "pygments_lexer": "ipython3",
   "version": "3.12.7"
  }
 },
 "nbformat": 4,
 "nbformat_minor": 5
}
